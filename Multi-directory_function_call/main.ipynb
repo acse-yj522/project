{
 "cells": [
  {
   "attachments": {},
   "cell_type": "markdown",
   "metadata": {
    "collapsed": false
   },
   "source": [
    "路径命令:\n",
    "\n",
    "'.' , './' 当前目录\n",
    "\n",
    "'..' , '../' 上级目录\n",
    "\n",
    "os.getcwd() 获取当前路径\n",
    "\n",
    "os.listdir('.') 罗列指定路径文件  os.listdir()罗列当前路径文件 = os.listdir(\".\") = os.listdir(\"./\")\n",
    "\n",
    "os.listdir('./shared1/shared2/') = os.listdir('./shared1/shared2') =os.listdir('shared1/shared2/') =os.listdir('shared1/shared2')\n",
    "\n",
    "os.chdir('..') 永久更改当前路径\n",
    "\n",
    "sys.path.append('./') 添加临时搜索路径，退出程序路径失败 == sys.path.insert(0, './') 数字表示搜索路径优先级,不懂？"
   ]
  },
  {
   "attachments": {},
   "cell_type": "markdown",
   "metadata": {
    "collapsed": false
   },
   "source": [
    "命令行内：\n",
    "\n",
    "ls -all: 显示隐藏文件\n",
    "\n",
    "touch 文件名: 创建文件\n",
    "\n",
    "mkdir 文件夹名: 创建文件夹\n",
    "\n",
    "open 文件夹名: 打开文件夹/directory\n",
    "\n",
    "open 文件名: 用对应的应用程序打开文件\n",
    "\n",
    "cat 文件名: 在命令行里显示文件\n",
    "\n",
    "vim 文件名: 在命令行里编辑文件\n",
    "\n",
    "cd 文件夹名: 打开文件夹\n",
    "\n",
    "rm 文件名: 删除文件\n",
    "\n",
    "rm -rf 文件名/文件夹名: 删除文件夹\n",
    "     rmdir 文件夹名: 只能删除空目录"
   ]
  },
  {
   "cell_type": "code",
   "execution_count": 1,
   "metadata": {},
   "outputs": [
    {
     "name": "stdout",
     "output_type": "stream",
     "text": [
      "22\n"
     ]
    }
   ],
   "source": [
    "# from + .py, import + class/func/*\n",
    "from shared1.shared2.tool import cal\n",
    "# from shared1.shared2.tool import *\n",
    "\n",
    "cal = cal()\n",
    "\n",
    "print(cal.plus(cal.mul(4, 6), cal.minus(4, 6)))"
   ]
  },
  {
   "cell_type": "code",
   "execution_count": 2,
   "metadata": {},
   "outputs": [
    {
     "name": "stdout",
     "output_type": "stream",
     "text": [
      "22\n"
     ]
    }
   ],
   "source": [
    "# from + loaction/folder, import + module\n",
    "from shared1.shared2 import tool\n",
    "# from shared1.shared2 import *\n",
    "cal = tool.cal()\n",
    "\n",
    "print(cal.plus(cal.mul(4, 6), cal.minus(4, 6)))"
   ]
  },
  {
   "cell_type": "code",
   "execution_count": 7,
   "metadata": {},
   "outputs": [
    {
     "name": "stdout",
     "output_type": "stream",
     "text": [
      "/Users/yj522/Desktop/多层文件夹下函数调用\n",
      "22\n"
     ]
    }
   ],
   "source": [
    "import sys, os\n",
    "# sys.path.insert(0, './shared1/shared2')\n",
    "# sys.path.insert(0, 'shared1/shared2')\n",
    "sys.path.append(\"shared1/shared2\")\n",
    "\n",
    "print(os.getcwd())\n",
    "\n",
    "from tool import cal\n",
    "\n",
    "cal = cal()\n",
    "\n",
    "print(cal.plus(cal.mul(4, 6), cal.minus(4, 6)))"
   ]
  }
 ],
 "metadata": {
  "kernelspec": {
   "display_name": "venv",
   "language": "python",
   "name": "python3"
  },
  "language_info": {
   "codemirror_mode": {
    "name": "ipython",
    "version": 3
   },
   "file_extension": ".py",
   "mimetype": "text/x-python",
   "name": "python",
   "nbconvert_exporter": "python",
   "pygments_lexer": "ipython3",
   "version": "3.9.6"
  },
  "orig_nbformat": 4,
  "vscode": {
   "interpreter": {
    "hash": "ba2aa090619ed041e482c53ff187a37fa5cd8b8da7e09d78466bf453996765af"
   }
  }
 },
 "nbformat": 4,
 "nbformat_minor": 2
}
